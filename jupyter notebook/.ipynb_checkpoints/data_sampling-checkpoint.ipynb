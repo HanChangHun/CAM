{
 "cells": [
  {
   "cell_type": "code",
   "execution_count": 4,
   "metadata": {},
   "outputs": [],
   "source": [
    "import shutil, os\n",
    "\n",
    "ORG_DIR = 'data/caltech-256-image-dataset/256_ObjectCategories'\n",
    "DST_ORG = 'data/sample_dir'"
   ]
  },
  {
   "cell_type": "code",
   "execution_count": 22,
   "metadata": {},
   "outputs": [],
   "source": [
    "temp_list = []\n",
    "temp_dict = {}\n",
    "for i in os.listdir(ORG_DIR)[1:]:\n",
    "    temp_dir = os.path.join(ORG_DIR,i)\n",
    "    temp_list.append(temp_dir)\n",
    "    first_data_dir = os.path.join(temp_dir,os.listdir(temp_dir)[3])\n",
    "    second_data_dir = os.path.join(temp_dir,os.listdir(temp_dir)[4])\n",
    "    \n",
    "    temp_dict[i] = [first_data_dir, second_data_dir]"
   ]
  },
  {
   "cell_type": "code",
   "execution_count": 23,
   "metadata": {},
   "outputs": [],
   "source": [
    "import cv2\n",
    "\n",
    "a = cv2.imread(temp_dict['001.ak47'][0])"
   ]
  },
  {
   "cell_type": "code",
   "execution_count": null,
   "metadata": {},
   "outputs": [],
   "source": [
    "for i in temp_dict.keys():\n",
    "    print(i)"
   ]
  },
  {
   "cell_type": "code",
   "execution_count": 49,
   "metadata": {},
   "outputs": [
    {
     "data": {
      "text/plain": [
       "'data/caltech-256-image-dataset/256_ObjectCategories\\\\001.ak47\\\\001_0003.jpg'"
      ]
     },
     "execution_count": 49,
     "metadata": {},
     "output_type": "execute_result"
    }
   ],
   "source": [
    "temp_dict['001.ak47'][0]"
   ]
  },
  {
   "cell_type": "code",
   "execution_count": 45,
   "metadata": {},
   "outputs": [],
   "source": [
    "temp = os.path.join(DST_ORG,temp_dict['001.ak47'][0][52:])\n",
    "os.makedirs(os.path.join(temp))"
   ]
  },
  {
   "cell_type": "code",
   "execution_count": 47,
   "metadata": {
    "scrolled": true
   },
   "outputs": [
    {
     "data": {
      "text/plain": [
       "['data/caltech-256-image-dataset/256_ObjectCategories\\\\001.ak47',\n",
       " 'data/caltech-256-image-dataset/256_ObjectCategories\\\\002.american-flag',\n",
       " 'data/caltech-256-image-dataset/256_ObjectCategories\\\\003.backpack',\n",
       " 'data/caltech-256-image-dataset/256_ObjectCategories\\\\004.baseball-bat',\n",
       " 'data/caltech-256-image-dataset/256_ObjectCategories\\\\005.baseball-glove',\n",
       " 'data/caltech-256-image-dataset/256_ObjectCategories\\\\006.basketball-hoop',\n",
       " 'data/caltech-256-image-dataset/256_ObjectCategories\\\\007.bat',\n",
       " 'data/caltech-256-image-dataset/256_ObjectCategories\\\\008.bathtub',\n",
       " 'data/caltech-256-image-dataset/256_ObjectCategories\\\\009.bear',\n",
       " 'data/caltech-256-image-dataset/256_ObjectCategories\\\\010.beer-mug',\n",
       " 'data/caltech-256-image-dataset/256_ObjectCategories\\\\011.billiards',\n",
       " 'data/caltech-256-image-dataset/256_ObjectCategories\\\\012.binoculars',\n",
       " 'data/caltech-256-image-dataset/256_ObjectCategories\\\\013.birdbath',\n",
       " 'data/caltech-256-image-dataset/256_ObjectCategories\\\\014.blimp',\n",
       " 'data/caltech-256-image-dataset/256_ObjectCategories\\\\015.bonsai-101',\n",
       " 'data/caltech-256-image-dataset/256_ObjectCategories\\\\016.boom-box',\n",
       " 'data/caltech-256-image-dataset/256_ObjectCategories\\\\017.bowling-ball',\n",
       " 'data/caltech-256-image-dataset/256_ObjectCategories\\\\018.bowling-pin',\n",
       " 'data/caltech-256-image-dataset/256_ObjectCategories\\\\019.boxing-glove',\n",
       " 'data/caltech-256-image-dataset/256_ObjectCategories\\\\020.brain-101',\n",
       " 'data/caltech-256-image-dataset/256_ObjectCategories\\\\021.breadmaker',\n",
       " 'data/caltech-256-image-dataset/256_ObjectCategories\\\\022.buddha-101',\n",
       " 'data/caltech-256-image-dataset/256_ObjectCategories\\\\023.bulldozer',\n",
       " 'data/caltech-256-image-dataset/256_ObjectCategories\\\\024.butterfly',\n",
       " 'data/caltech-256-image-dataset/256_ObjectCategories\\\\025.cactus',\n",
       " 'data/caltech-256-image-dataset/256_ObjectCategories\\\\026.cake',\n",
       " 'data/caltech-256-image-dataset/256_ObjectCategories\\\\027.calculator',\n",
       " 'data/caltech-256-image-dataset/256_ObjectCategories\\\\028.camel',\n",
       " 'data/caltech-256-image-dataset/256_ObjectCategories\\\\029.cannon',\n",
       " 'data/caltech-256-image-dataset/256_ObjectCategories\\\\030.canoe',\n",
       " 'data/caltech-256-image-dataset/256_ObjectCategories\\\\031.car-tire',\n",
       " 'data/caltech-256-image-dataset/256_ObjectCategories\\\\032.cartman',\n",
       " 'data/caltech-256-image-dataset/256_ObjectCategories\\\\033.cd',\n",
       " 'data/caltech-256-image-dataset/256_ObjectCategories\\\\034.centipede',\n",
       " 'data/caltech-256-image-dataset/256_ObjectCategories\\\\035.cereal-box',\n",
       " 'data/caltech-256-image-dataset/256_ObjectCategories\\\\036.chandelier-101',\n",
       " 'data/caltech-256-image-dataset/256_ObjectCategories\\\\037.chess-board',\n",
       " 'data/caltech-256-image-dataset/256_ObjectCategories\\\\038.chimp',\n",
       " 'data/caltech-256-image-dataset/256_ObjectCategories\\\\039.chopsticks',\n",
       " 'data/caltech-256-image-dataset/256_ObjectCategories\\\\040.cockroach',\n",
       " 'data/caltech-256-image-dataset/256_ObjectCategories\\\\041.coffee-mug',\n",
       " 'data/caltech-256-image-dataset/256_ObjectCategories\\\\042.coffin',\n",
       " 'data/caltech-256-image-dataset/256_ObjectCategories\\\\043.coin',\n",
       " 'data/caltech-256-image-dataset/256_ObjectCategories\\\\044.comet',\n",
       " 'data/caltech-256-image-dataset/256_ObjectCategories\\\\045.computer-keyboard',\n",
       " 'data/caltech-256-image-dataset/256_ObjectCategories\\\\046.computer-monitor',\n",
       " 'data/caltech-256-image-dataset/256_ObjectCategories\\\\047.computer-mouse',\n",
       " 'data/caltech-256-image-dataset/256_ObjectCategories\\\\048.conch',\n",
       " 'data/caltech-256-image-dataset/256_ObjectCategories\\\\049.cormorant',\n",
       " 'data/caltech-256-image-dataset/256_ObjectCategories\\\\050.covered-wagon',\n",
       " 'data/caltech-256-image-dataset/256_ObjectCategories\\\\051.cowboy-hat',\n",
       " 'data/caltech-256-image-dataset/256_ObjectCategories\\\\052.crab-101',\n",
       " 'data/caltech-256-image-dataset/256_ObjectCategories\\\\053.desk-globe',\n",
       " 'data/caltech-256-image-dataset/256_ObjectCategories\\\\054.diamond-ring',\n",
       " 'data/caltech-256-image-dataset/256_ObjectCategories\\\\055.dice',\n",
       " 'data/caltech-256-image-dataset/256_ObjectCategories\\\\056.dog',\n",
       " 'data/caltech-256-image-dataset/256_ObjectCategories\\\\057.dolphin-101',\n",
       " 'data/caltech-256-image-dataset/256_ObjectCategories\\\\058.doorknob',\n",
       " 'data/caltech-256-image-dataset/256_ObjectCategories\\\\059.drinking-straw',\n",
       " 'data/caltech-256-image-dataset/256_ObjectCategories\\\\060.duck',\n",
       " 'data/caltech-256-image-dataset/256_ObjectCategories\\\\061.dumb-bell',\n",
       " 'data/caltech-256-image-dataset/256_ObjectCategories\\\\062.eiffel-tower',\n",
       " 'data/caltech-256-image-dataset/256_ObjectCategories\\\\063.electric-guitar-101',\n",
       " 'data/caltech-256-image-dataset/256_ObjectCategories\\\\064.elephant-101',\n",
       " 'data/caltech-256-image-dataset/256_ObjectCategories\\\\065.elk',\n",
       " 'data/caltech-256-image-dataset/256_ObjectCategories\\\\066.ewer-101',\n",
       " 'data/caltech-256-image-dataset/256_ObjectCategories\\\\067.eyeglasses',\n",
       " 'data/caltech-256-image-dataset/256_ObjectCategories\\\\068.fern',\n",
       " 'data/caltech-256-image-dataset/256_ObjectCategories\\\\069.fighter-jet',\n",
       " 'data/caltech-256-image-dataset/256_ObjectCategories\\\\070.fire-extinguisher',\n",
       " 'data/caltech-256-image-dataset/256_ObjectCategories\\\\071.fire-hydrant',\n",
       " 'data/caltech-256-image-dataset/256_ObjectCategories\\\\072.fire-truck',\n",
       " 'data/caltech-256-image-dataset/256_ObjectCategories\\\\073.fireworks',\n",
       " 'data/caltech-256-image-dataset/256_ObjectCategories\\\\074.flashlight',\n",
       " 'data/caltech-256-image-dataset/256_ObjectCategories\\\\075.floppy-disk',\n",
       " 'data/caltech-256-image-dataset/256_ObjectCategories\\\\076.football-helmet',\n",
       " 'data/caltech-256-image-dataset/256_ObjectCategories\\\\077.french-horn',\n",
       " 'data/caltech-256-image-dataset/256_ObjectCategories\\\\078.fried-egg',\n",
       " 'data/caltech-256-image-dataset/256_ObjectCategories\\\\079.frisbee',\n",
       " 'data/caltech-256-image-dataset/256_ObjectCategories\\\\080.frog',\n",
       " 'data/caltech-256-image-dataset/256_ObjectCategories\\\\081.frying-pan',\n",
       " 'data/caltech-256-image-dataset/256_ObjectCategories\\\\082.galaxy',\n",
       " 'data/caltech-256-image-dataset/256_ObjectCategories\\\\083.gas-pump',\n",
       " 'data/caltech-256-image-dataset/256_ObjectCategories\\\\084.giraffe',\n",
       " 'data/caltech-256-image-dataset/256_ObjectCategories\\\\085.goat',\n",
       " 'data/caltech-256-image-dataset/256_ObjectCategories\\\\086.golden-gate-bridge',\n",
       " 'data/caltech-256-image-dataset/256_ObjectCategories\\\\087.goldfish',\n",
       " 'data/caltech-256-image-dataset/256_ObjectCategories\\\\088.golf-ball',\n",
       " 'data/caltech-256-image-dataset/256_ObjectCategories\\\\089.goose',\n",
       " 'data/caltech-256-image-dataset/256_ObjectCategories\\\\090.gorilla',\n",
       " 'data/caltech-256-image-dataset/256_ObjectCategories\\\\091.grand-piano-101',\n",
       " 'data/caltech-256-image-dataset/256_ObjectCategories\\\\092.grapes',\n",
       " 'data/caltech-256-image-dataset/256_ObjectCategories\\\\093.grasshopper',\n",
       " 'data/caltech-256-image-dataset/256_ObjectCategories\\\\094.guitar-pick',\n",
       " 'data/caltech-256-image-dataset/256_ObjectCategories\\\\095.hamburger',\n",
       " 'data/caltech-256-image-dataset/256_ObjectCategories\\\\096.hammock',\n",
       " 'data/caltech-256-image-dataset/256_ObjectCategories\\\\097.harmonica',\n",
       " 'data/caltech-256-image-dataset/256_ObjectCategories\\\\098.harp',\n",
       " 'data/caltech-256-image-dataset/256_ObjectCategories\\\\099.harpsichord',\n",
       " 'data/caltech-256-image-dataset/256_ObjectCategories\\\\100.hawksbill-101',\n",
       " 'data/caltech-256-image-dataset/256_ObjectCategories\\\\101.head-phones',\n",
       " 'data/caltech-256-image-dataset/256_ObjectCategories\\\\102.helicopter-101',\n",
       " 'data/caltech-256-image-dataset/256_ObjectCategories\\\\103.hibiscus',\n",
       " 'data/caltech-256-image-dataset/256_ObjectCategories\\\\104.homer-simpson',\n",
       " 'data/caltech-256-image-dataset/256_ObjectCategories\\\\105.horse',\n",
       " 'data/caltech-256-image-dataset/256_ObjectCategories\\\\106.horseshoe-crab',\n",
       " 'data/caltech-256-image-dataset/256_ObjectCategories\\\\107.hot-air-balloon',\n",
       " 'data/caltech-256-image-dataset/256_ObjectCategories\\\\108.hot-dog',\n",
       " 'data/caltech-256-image-dataset/256_ObjectCategories\\\\109.hot-tub',\n",
       " 'data/caltech-256-image-dataset/256_ObjectCategories\\\\110.hourglass',\n",
       " 'data/caltech-256-image-dataset/256_ObjectCategories\\\\111.house-fly',\n",
       " 'data/caltech-256-image-dataset/256_ObjectCategories\\\\112.human-skeleton',\n",
       " 'data/caltech-256-image-dataset/256_ObjectCategories\\\\113.hummingbird',\n",
       " 'data/caltech-256-image-dataset/256_ObjectCategories\\\\114.ibis-101',\n",
       " 'data/caltech-256-image-dataset/256_ObjectCategories\\\\115.ice-cream-cone',\n",
       " 'data/caltech-256-image-dataset/256_ObjectCategories\\\\116.iguana',\n",
       " 'data/caltech-256-image-dataset/256_ObjectCategories\\\\117.ipod',\n",
       " 'data/caltech-256-image-dataset/256_ObjectCategories\\\\118.iris',\n",
       " 'data/caltech-256-image-dataset/256_ObjectCategories\\\\119.jesus-christ',\n",
       " 'data/caltech-256-image-dataset/256_ObjectCategories\\\\120.joy-stick',\n",
       " 'data/caltech-256-image-dataset/256_ObjectCategories\\\\121.kangaroo-101',\n",
       " 'data/caltech-256-image-dataset/256_ObjectCategories\\\\122.kayak',\n",
       " 'data/caltech-256-image-dataset/256_ObjectCategories\\\\123.ketch-101',\n",
       " 'data/caltech-256-image-dataset/256_ObjectCategories\\\\124.killer-whale',\n",
       " 'data/caltech-256-image-dataset/256_ObjectCategories\\\\125.knife',\n",
       " 'data/caltech-256-image-dataset/256_ObjectCategories\\\\126.ladder',\n",
       " 'data/caltech-256-image-dataset/256_ObjectCategories\\\\127.laptop-101',\n",
       " 'data/caltech-256-image-dataset/256_ObjectCategories\\\\128.lathe',\n",
       " 'data/caltech-256-image-dataset/256_ObjectCategories\\\\129.leopards-101',\n",
       " 'data/caltech-256-image-dataset/256_ObjectCategories\\\\130.license-plate',\n",
       " 'data/caltech-256-image-dataset/256_ObjectCategories\\\\131.lightbulb',\n",
       " 'data/caltech-256-image-dataset/256_ObjectCategories\\\\132.light-house',\n",
       " 'data/caltech-256-image-dataset/256_ObjectCategories\\\\133.lightning',\n",
       " 'data/caltech-256-image-dataset/256_ObjectCategories\\\\134.llama-101',\n",
       " 'data/caltech-256-image-dataset/256_ObjectCategories\\\\135.mailbox',\n",
       " 'data/caltech-256-image-dataset/256_ObjectCategories\\\\136.mandolin',\n",
       " 'data/caltech-256-image-dataset/256_ObjectCategories\\\\137.mars',\n",
       " 'data/caltech-256-image-dataset/256_ObjectCategories\\\\138.mattress',\n",
       " 'data/caltech-256-image-dataset/256_ObjectCategories\\\\139.megaphone',\n",
       " 'data/caltech-256-image-dataset/256_ObjectCategories\\\\140.menorah-101',\n",
       " 'data/caltech-256-image-dataset/256_ObjectCategories\\\\141.microscope',\n",
       " 'data/caltech-256-image-dataset/256_ObjectCategories\\\\142.microwave',\n",
       " 'data/caltech-256-image-dataset/256_ObjectCategories\\\\143.minaret',\n",
       " 'data/caltech-256-image-dataset/256_ObjectCategories\\\\144.minotaur',\n",
       " 'data/caltech-256-image-dataset/256_ObjectCategories\\\\145.motorbikes-101',\n",
       " 'data/caltech-256-image-dataset/256_ObjectCategories\\\\146.mountain-bike',\n",
       " 'data/caltech-256-image-dataset/256_ObjectCategories\\\\147.mushroom',\n",
       " 'data/caltech-256-image-dataset/256_ObjectCategories\\\\148.mussels',\n",
       " 'data/caltech-256-image-dataset/256_ObjectCategories\\\\149.necktie',\n",
       " 'data/caltech-256-image-dataset/256_ObjectCategories\\\\150.octopus',\n",
       " 'data/caltech-256-image-dataset/256_ObjectCategories\\\\151.ostrich',\n",
       " 'data/caltech-256-image-dataset/256_ObjectCategories\\\\152.owl',\n",
       " 'data/caltech-256-image-dataset/256_ObjectCategories\\\\153.palm-pilot',\n",
       " 'data/caltech-256-image-dataset/256_ObjectCategories\\\\154.palm-tree',\n",
       " 'data/caltech-256-image-dataset/256_ObjectCategories\\\\155.paperclip',\n",
       " 'data/caltech-256-image-dataset/256_ObjectCategories\\\\156.paper-shredder',\n",
       " 'data/caltech-256-image-dataset/256_ObjectCategories\\\\157.pci-card',\n",
       " 'data/caltech-256-image-dataset/256_ObjectCategories\\\\158.penguin',\n",
       " 'data/caltech-256-image-dataset/256_ObjectCategories\\\\159.people',\n",
       " 'data/caltech-256-image-dataset/256_ObjectCategories\\\\160.pez-dispenser',\n",
       " 'data/caltech-256-image-dataset/256_ObjectCategories\\\\161.photocopier',\n",
       " 'data/caltech-256-image-dataset/256_ObjectCategories\\\\162.picnic-table',\n",
       " 'data/caltech-256-image-dataset/256_ObjectCategories\\\\163.playing-card',\n",
       " 'data/caltech-256-image-dataset/256_ObjectCategories\\\\164.porcupine',\n",
       " 'data/caltech-256-image-dataset/256_ObjectCategories\\\\165.pram',\n",
       " 'data/caltech-256-image-dataset/256_ObjectCategories\\\\166.praying-mantis',\n",
       " 'data/caltech-256-image-dataset/256_ObjectCategories\\\\167.pyramid',\n",
       " 'data/caltech-256-image-dataset/256_ObjectCategories\\\\168.raccoon',\n",
       " 'data/caltech-256-image-dataset/256_ObjectCategories\\\\169.radio-telescope',\n",
       " 'data/caltech-256-image-dataset/256_ObjectCategories\\\\170.rainbow',\n",
       " 'data/caltech-256-image-dataset/256_ObjectCategories\\\\171.refrigerator',\n",
       " 'data/caltech-256-image-dataset/256_ObjectCategories\\\\172.revolver-101',\n",
       " 'data/caltech-256-image-dataset/256_ObjectCategories\\\\173.rifle',\n",
       " 'data/caltech-256-image-dataset/256_ObjectCategories\\\\174.rotary-phone',\n",
       " 'data/caltech-256-image-dataset/256_ObjectCategories\\\\175.roulette-wheel',\n",
       " 'data/caltech-256-image-dataset/256_ObjectCategories\\\\176.saddle',\n",
       " 'data/caltech-256-image-dataset/256_ObjectCategories\\\\177.saturn',\n",
       " 'data/caltech-256-image-dataset/256_ObjectCategories\\\\178.school-bus',\n",
       " 'data/caltech-256-image-dataset/256_ObjectCategories\\\\179.scorpion-101',\n",
       " 'data/caltech-256-image-dataset/256_ObjectCategories\\\\180.screwdriver',\n",
       " 'data/caltech-256-image-dataset/256_ObjectCategories\\\\181.segway',\n",
       " 'data/caltech-256-image-dataset/256_ObjectCategories\\\\182.self-propelled-lawn-mower',\n",
       " 'data/caltech-256-image-dataset/256_ObjectCategories\\\\183.sextant',\n",
       " 'data/caltech-256-image-dataset/256_ObjectCategories\\\\184.sheet-music',\n",
       " 'data/caltech-256-image-dataset/256_ObjectCategories\\\\185.skateboard',\n",
       " 'data/caltech-256-image-dataset/256_ObjectCategories\\\\186.skunk',\n",
       " 'data/caltech-256-image-dataset/256_ObjectCategories\\\\187.skyscraper',\n",
       " 'data/caltech-256-image-dataset/256_ObjectCategories\\\\188.smokestack',\n",
       " 'data/caltech-256-image-dataset/256_ObjectCategories\\\\189.snail',\n",
       " 'data/caltech-256-image-dataset/256_ObjectCategories\\\\190.snake',\n",
       " 'data/caltech-256-image-dataset/256_ObjectCategories\\\\191.sneaker',\n",
       " 'data/caltech-256-image-dataset/256_ObjectCategories\\\\192.snowmobile',\n",
       " 'data/caltech-256-image-dataset/256_ObjectCategories\\\\193.soccer-ball',\n",
       " 'data/caltech-256-image-dataset/256_ObjectCategories\\\\194.socks',\n",
       " 'data/caltech-256-image-dataset/256_ObjectCategories\\\\195.soda-can',\n",
       " 'data/caltech-256-image-dataset/256_ObjectCategories\\\\196.spaghetti',\n",
       " 'data/caltech-256-image-dataset/256_ObjectCategories\\\\197.speed-boat',\n",
       " 'data/caltech-256-image-dataset/256_ObjectCategories\\\\198.spider',\n",
       " 'data/caltech-256-image-dataset/256_ObjectCategories\\\\199.spoon',\n",
       " 'data/caltech-256-image-dataset/256_ObjectCategories\\\\200.stained-glass',\n",
       " 'data/caltech-256-image-dataset/256_ObjectCategories\\\\201.starfish-101',\n",
       " 'data/caltech-256-image-dataset/256_ObjectCategories\\\\202.steering-wheel',\n",
       " 'data/caltech-256-image-dataset/256_ObjectCategories\\\\203.stirrups',\n",
       " 'data/caltech-256-image-dataset/256_ObjectCategories\\\\204.sunflower-101',\n",
       " 'data/caltech-256-image-dataset/256_ObjectCategories\\\\205.superman',\n",
       " 'data/caltech-256-image-dataset/256_ObjectCategories\\\\206.sushi',\n",
       " 'data/caltech-256-image-dataset/256_ObjectCategories\\\\207.swan',\n",
       " 'data/caltech-256-image-dataset/256_ObjectCategories\\\\208.swiss-army-knife',\n",
       " 'data/caltech-256-image-dataset/256_ObjectCategories\\\\209.sword',\n",
       " 'data/caltech-256-image-dataset/256_ObjectCategories\\\\210.syringe',\n",
       " 'data/caltech-256-image-dataset/256_ObjectCategories\\\\211.tambourine',\n",
       " 'data/caltech-256-image-dataset/256_ObjectCategories\\\\212.teapot',\n",
       " 'data/caltech-256-image-dataset/256_ObjectCategories\\\\213.teddy-bear',\n",
       " 'data/caltech-256-image-dataset/256_ObjectCategories\\\\214.teepee',\n",
       " 'data/caltech-256-image-dataset/256_ObjectCategories\\\\215.telephone-box',\n",
       " 'data/caltech-256-image-dataset/256_ObjectCategories\\\\216.tennis-ball',\n",
       " 'data/caltech-256-image-dataset/256_ObjectCategories\\\\217.tennis-court',\n",
       " 'data/caltech-256-image-dataset/256_ObjectCategories\\\\218.tennis-racket',\n",
       " 'data/caltech-256-image-dataset/256_ObjectCategories\\\\219.theodolite',\n",
       " 'data/caltech-256-image-dataset/256_ObjectCategories\\\\220.toaster',\n",
       " 'data/caltech-256-image-dataset/256_ObjectCategories\\\\221.tomato',\n",
       " 'data/caltech-256-image-dataset/256_ObjectCategories\\\\222.tombstone',\n",
       " 'data/caltech-256-image-dataset/256_ObjectCategories\\\\223.top-hat',\n",
       " 'data/caltech-256-image-dataset/256_ObjectCategories\\\\224.touring-bike',\n",
       " 'data/caltech-256-image-dataset/256_ObjectCategories\\\\225.tower-pisa',\n",
       " 'data/caltech-256-image-dataset/256_ObjectCategories\\\\226.traffic-light',\n",
       " 'data/caltech-256-image-dataset/256_ObjectCategories\\\\227.treadmill',\n",
       " 'data/caltech-256-image-dataset/256_ObjectCategories\\\\228.triceratops',\n",
       " 'data/caltech-256-image-dataset/256_ObjectCategories\\\\229.tricycle',\n",
       " 'data/caltech-256-image-dataset/256_ObjectCategories\\\\230.trilobite-101',\n",
       " 'data/caltech-256-image-dataset/256_ObjectCategories\\\\231.tripod',\n",
       " 'data/caltech-256-image-dataset/256_ObjectCategories\\\\232.t-shirt',\n",
       " 'data/caltech-256-image-dataset/256_ObjectCategories\\\\233.tuning-fork',\n",
       " 'data/caltech-256-image-dataset/256_ObjectCategories\\\\234.tweezer',\n",
       " 'data/caltech-256-image-dataset/256_ObjectCategories\\\\235.umbrella-101',\n",
       " 'data/caltech-256-image-dataset/256_ObjectCategories\\\\236.unicorn',\n",
       " 'data/caltech-256-image-dataset/256_ObjectCategories\\\\237.vcr',\n",
       " 'data/caltech-256-image-dataset/256_ObjectCategories\\\\238.video-projector',\n",
       " 'data/caltech-256-image-dataset/256_ObjectCategories\\\\239.washing-machine',\n",
       " 'data/caltech-256-image-dataset/256_ObjectCategories\\\\240.watch-101',\n",
       " 'data/caltech-256-image-dataset/256_ObjectCategories\\\\241.waterfall',\n",
       " 'data/caltech-256-image-dataset/256_ObjectCategories\\\\242.watermelon',\n",
       " 'data/caltech-256-image-dataset/256_ObjectCategories\\\\243.welding-mask',\n",
       " 'data/caltech-256-image-dataset/256_ObjectCategories\\\\244.wheelbarrow',\n",
       " 'data/caltech-256-image-dataset/256_ObjectCategories\\\\245.windmill',\n",
       " 'data/caltech-256-image-dataset/256_ObjectCategories\\\\246.wine-bottle',\n",
       " 'data/caltech-256-image-dataset/256_ObjectCategories\\\\247.xylophone',\n",
       " 'data/caltech-256-image-dataset/256_ObjectCategories\\\\248.yarmulke',\n",
       " 'data/caltech-256-image-dataset/256_ObjectCategories\\\\249.yo-yo',\n",
       " 'data/caltech-256-image-dataset/256_ObjectCategories\\\\250.zebra',\n",
       " 'data/caltech-256-image-dataset/256_ObjectCategories\\\\251.airplanes-101',\n",
       " 'data/caltech-256-image-dataset/256_ObjectCategories\\\\252.car-side-101',\n",
       " 'data/caltech-256-image-dataset/256_ObjectCategories\\\\253.faces-easy-101',\n",
       " 'data/caltech-256-image-dataset/256_ObjectCategories\\\\254.greyhound',\n",
       " 'data/caltech-256-image-dataset/256_ObjectCategories\\\\255.tennis-shoes',\n",
       " 'data/caltech-256-image-dataset/256_ObjectCategories\\\\256.toad',\n",
       " 'data/caltech-256-image-dataset/256_ObjectCategories\\\\257.clutter']"
      ]
     },
     "execution_count": 47,
     "metadata": {},
     "output_type": "execute_result"
    }
   ],
   "source": [
    "temp_list"
   ]
  },
  {
   "cell_type": "code",
   "execution_count": 60,
   "metadata": {},
   "outputs": [],
   "source": [
    "for i,key in enumerate(temp_dict.keys()):\n",
    "    tttemp_dir = os.path.join(DST_ORG,temp_dict[key][0][52:-13])\n",
    "    if not(os.path.isdir(tttemp_dir)):\n",
    "        os.makedirs(os.path.join(tttemp_dir))\n",
    "\n",
    "#     shutil.copy(temp_dict[key][0], os.path.join(DST_ORG,temp_dict[key][0][52:]))\n",
    "    shutil.copy(temp_dict[key][1], os.path.join(DST_ORG,temp_dict[key][1][52:]))"
   ]
  },
  {
   "cell_type": "code",
   "execution_count": 58,
   "metadata": {},
   "outputs": [
    {
     "data": {
      "text/plain": [
       "'data/sample_dir\\\\017.bowling-ball'"
      ]
     },
     "execution_count": 58,
     "metadata": {},
     "output_type": "execute_result"
    }
   ],
   "source": [
    "os.path.join(DST_ORG,temp_dict['017.bowling-ball'][0][52:-13])"
   ]
  },
  {
   "cell_type": "code",
   "execution_count": 51,
   "metadata": {},
   "outputs": [
    {
     "data": {
      "text/plain": [
       "'data/caltech-256-image-dataset/256_ObjectCategories\\\\001.ak47\\\\001_0003.jpg'"
      ]
     },
     "execution_count": 51,
     "metadata": {},
     "output_type": "execute_result"
    }
   ],
   "source": [
    "temp_dict['001.ak47'][0]"
   ]
  },
  {
   "cell_type": "code",
   "execution_count": 53,
   "metadata": {},
   "outputs": [
    {
     "data": {
      "text/plain": [
       "'data/caltech-256-image-dataset/256_ObjectCategories\\\\002.american-flag'"
      ]
     },
     "execution_count": 53,
     "metadata": {},
     "output_type": "execute_result"
    }
   ],
   "source": [
    "temp_list[1]"
   ]
  },
  {
   "cell_type": "code",
   "execution_count": null,
   "metadata": {},
   "outputs": [],
   "source": []
  }
 ],
 "metadata": {
  "kernelspec": {
   "display_name": "Python 3",
   "language": "python",
   "name": "python3"
  },
  "language_info": {
   "codemirror_mode": {
    "name": "ipython",
    "version": 3
   },
   "file_extension": ".py",
   "mimetype": "text/x-python",
   "name": "python",
   "nbconvert_exporter": "python",
   "pygments_lexer": "ipython3",
   "version": "3.7.3"
  }
 },
 "nbformat": 4,
 "nbformat_minor": 4
}
